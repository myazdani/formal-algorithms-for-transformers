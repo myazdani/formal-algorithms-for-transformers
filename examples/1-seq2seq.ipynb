{
 "cells": [
  {
   "cell_type": "code",
   "execution_count": 1,
   "metadata": {},
   "outputs": [],
   "source": [
    "import torch\n",
    "import torch.nn as nn\n",
    "from torch.nn import functional as F\n",
    "\n",
    "import sys\n",
    "sys.path.insert(1, '../src')\n",
    "from alg_8 import EDTransformer"
   ]
  },
  {
   "cell_type": "code",
   "execution_count": 2,
   "metadata": {},
   "outputs": [],
   "source": [
    "max_seq_len = 8\n",
    "embed_dim = 50\n",
    "vocab_size = 12\n",
    "\n",
    "bs = 32\n",
    "z_ids = torch.randint(0,vocab_size, size = (bs*2, max_seq_len)) \n",
    "x_ids = (z_ids+5)%vocab_size"
   ]
  },
  {
   "cell_type": "code",
   "execution_count": 3,
   "metadata": {},
   "outputs": [],
   "source": [
    "ed_seq2seq = EDTransformer(embed_dim=embed_dim, mlp_dim=32, max_seq_len=max_seq_len,\n",
    "                            L_dec=3, L_enc=3, vocab_size=vocab_size, num_heads=3)\n",
    "\n",
    "\n",
    "neg_ll_loss = nn.NLLLoss()\n",
    "optimizer = torch.optim.SGD(ed_seq2seq.parameters(), lr=0.10, momentum=0.9)\n",
    "losses = []"
   ]
  },
  {
   "cell_type": "code",
   "execution_count": 4,
   "metadata": {},
   "outputs": [],
   "source": [
    "%%time\n",
    "for _ in range(1000):\n",
    "    optimizer.zero_grad()\n",
    "    output = ed_seq2seq(z_ids, x_ids)\n",
    "    loss = neg_ll_loss(torch.log(output.view(-1,vocab_size,max_seq_len)), x_ids)\n",
    "    loss.backward()\n",
    "    optimizer.step()\n",
    "    losses.append(loss.item())\n"
   ]
  },
  {
   "cell_type": "code",
   "execution_count": null,
   "metadata": {},
   "outputs": [],
   "source": [
    "import matplotlib.pyplot as plt"
   ]
  },
  {
   "cell_type": "code",
   "execution_count": null,
   "metadata": {},
   "outputs": [
    {
     "data": {
      "text/plain": [
       "[<matplotlib.lines.Line2D at 0x7fa4922c7640>]"
      ]
     },
     "execution_count": 51,
     "metadata": {},
     "output_type": "execute_result"
    },
    {
     "data": {
      "image/png": "[encoded data removed]",
      "text/plain": [
       "<Figure size 432x288 with 1 Axes>"
      ]
     },
     "metadata": {
      "needs_background": "light"
     },
     "output_type": "display_data"
    }
   ],
   "source": [
    "plt.plot(losses)"
   ]
  },
  {
   "cell_type": "code",
   "execution_count": null,
   "metadata": {},
   "outputs": [],
   "source": []
  }
 ],
 "metadata": {
  "kernelspec": {
   "display_name": "research-dev",
   "language": "python",
   "name": "python3"
  },
  "language_info": {
   "codemirror_mode": {
    "name": "ipython",
    "version": 3
   },
   "file_extension": ".py",
   "mimetype": "text/x-python",
   "name": "python",
   "nbconvert_exporter": "python",
   "pygments_lexer": "ipython3",
   "version": "3.10.4"
  },
  "orig_nbformat": 4,
  "vscode": {
   "interpreter": {
    "hash": "bb52c3a3fbd28bed2787dfc92005f3c85b155acf67ba344390d117213f233e38"
   }
  }
 },
 "nbformat": 4,
 "nbformat_minor": 2
}
